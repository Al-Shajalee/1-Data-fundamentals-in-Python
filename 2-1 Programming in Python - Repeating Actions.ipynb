{
 "cells": [
  {
   "cell_type": "markdown",
   "metadata": {},
   "source": [
    "<font size =6> Programming in Python </font>\n",
    "\n",
    "By Faaiz Alshajalee"
   ]
  },
  {
   "cell_type": "markdown",
   "metadata": {},
   "source": [
    "# <font color=red>Repeating Actions </font>"
   ]
  },
  {
   "cell_type": "markdown",
   "metadata": {},
   "source": [
    "##  <font color=blue>\"for\" loop  </font>"
   ]
  },
  {
   "cell_type": "markdown",
   "metadata": {},
   "source": [
    "###  <font color=green>In a range  </font>"
   ]
  },
  {
   "cell_type": "code",
   "execution_count": 1,
   "metadata": {},
   "outputs": [
    {
     "data": {
      "text/plain": [
       "range(0, 4)"
      ]
     },
     "execution_count": 1,
     "metadata": {},
     "output_type": "execute_result"
    }
   ],
   "source": [
    "range(0,4,1)"
   ]
  },
  {
   "cell_type": "code",
   "execution_count": 2,
   "metadata": {
    "hide_input": false
   },
   "outputs": [
    {
     "data": {
      "text/plain": [
       "[0, 1, 2, 3]"
      ]
     },
     "execution_count": 2,
     "metadata": {},
     "output_type": "execute_result"
    }
   ],
   "source": [
    "# range(Start,Stop,Steps), SSS\n",
    "list(range(0,4,1))"
   ]
  },
  {
   "attachments": {
    "image.png": {
     "image/png": "[encoded data removed]"
    }
   },
   "cell_type": "markdown",
   "metadata": {},
   "source": [
    "![image.png](attachment:image.png)"
   ]
  },
  {
   "cell_type": "code",
   "execution_count": 3,
   "metadata": {},
   "outputs": [
    {
     "name": "stdout",
     "output_type": "stream",
     "text": [
      "0\n",
      "1\n",
      "2\n",
      "3\n"
     ]
    }
   ],
   "source": [
    "# Print all the num in the range: The long way:\n",
    "print(0)\n",
    "print(1)\n",
    "print(2)\n",
    "print(3)"
   ]
  },
  {
   "cell_type": "code",
   "execution_count": 4,
   "metadata": {},
   "outputs": [
    {
     "name": "stdout",
     "output_type": "stream",
     "text": [
      "0\n",
      "1\n",
      "2\n",
      "3\n"
     ]
    }
   ],
   "source": [
    "# Example 1\n",
    "for i in range(4):  \n",
    "    print(i)"
   ]
  },
  {
   "cell_type": "code",
   "execution_count": 7,
   "metadata": {},
   "outputs": [
    {
     "name": "stdout",
     "output_type": "stream",
     "text": [
      "0\n",
      "then\n",
      "1\n",
      "then\n",
      "2\n",
      "then\n",
      "3\n",
      "then\n"
     ]
    }
   ],
   "source": [
    "import time\n",
    "\n",
    "# Example 1\n",
    "for i in range(4):  \n",
    "    print(i)\n",
    "    print(\"then\")\n",
    "    time.sleep(1) #only for illustration"
   ]
  },
  {
   "cell_type": "markdown",
   "metadata": {},
   "source": [
    "### <font color=green>In a list  </font>"
   ]
  },
  {
   "cell_type": "code",
   "execution_count": 9,
   "metadata": {},
   "outputs": [
    {
     "name": "stdout",
     "output_type": "stream",
     "text": [
      "dog\n",
      "cat\n",
      "mouse\n"
     ]
    }
   ],
   "source": [
    "# Example 1: list of strings, call by item:  \n",
    "animals = ['dog', 'cat', 'mouse']\n",
    "\n",
    "for animal in animals:   # animal can be anything\n",
    "    print(animal)\n",
    "    time.sleep(1) "
   ]
  },
  {
   "cell_type": "code",
   "execution_count": 11,
   "metadata": {
    "cell_style": "split"
   },
   "outputs": [
    {
     "name": "stdout",
     "output_type": "stream",
     "text": [
      "dog\n",
      "cat\n",
      "mouse\n"
     ]
    }
   ],
   "source": [
    "# Example 2: list of strings, call by index: \n",
    "animals = ['dog', 'cat', 'mouse']\n",
    "\n",
    "for index in range(len(animals)):\n",
    "    print(animals[index])\n",
    "#    print(f\" The animal # {i} is a {animals[i]}\")"
   ]
  },
  {
   "cell_type": "code",
   "execution_count": 16,
   "metadata": {
    "cell_style": "split"
   },
   "outputs": [
    {
     "data": {
      "text/plain": [
       "3"
      ]
     },
     "execution_count": 16,
     "metadata": {},
     "output_type": "execute_result"
    }
   ],
   "source": [
    "len(animals)"
   ]
  },
  {
   "cell_type": "code",
   "execution_count": null,
   "metadata": {},
   "outputs": [],
   "source": [
    "####"
   ]
  },
  {
   "cell_type": "code",
   "execution_count": 13,
   "metadata": {
    "cell_style": "split"
   },
   "outputs": [
    {
     "name": "stdout",
     "output_type": "stream",
     "text": [
      "dog\n",
      "cat\n",
      "mouse\n"
     ]
    }
   ],
   "source": [
    "# Example 2: list of strings, call by index: \n",
    "animals = ['dog', 'cat', 'mouse']\n",
    "\n",
    "for index, animal in enumerate(animals):\n",
    "    print(animals[index])"
   ]
  },
  {
   "cell_type": "code",
   "execution_count": 12,
   "metadata": {
    "cell_style": "split"
   },
   "outputs": [
    {
     "data": {
      "text/plain": [
       "[(0, 'dog'), (1, 'cat'), (2, 'mouse')]"
      ]
     },
     "execution_count": 12,
     "metadata": {},
     "output_type": "execute_result"
    }
   ],
   "source": [
    "animals = ['dog', 'cat', 'mouse']\n",
    "list(enumerate(animals))"
   ]
  },
  {
   "cell_type": "code",
   "execution_count": 14,
   "metadata": {},
   "outputs": [],
   "source": [
    "# C.W.1: \n",
    "# Given: nums = [32, 28, 30]\n",
    "# Requred: Calculate the \"sum\" and the \"avg.\" of the numbers in \"nums\" list of"
   ]
  },
  {
   "cell_type": "code",
   "execution_count": 17,
   "metadata": {
    "hide_input": false
   },
   "outputs": [
    {
     "name": "stdout",
     "output_type": "stream",
     "text": [
      "The sum of the nums is 90\n",
      "The avg. of the nums is 30.0\n"
     ]
    }
   ],
   "source": [
    "# H.W.1:Solution\n",
    "nums = [32, 28, 30]\n",
    "\n",
    "Sum=0\n",
    "\n",
    "for num in nums:\n",
    "    #Sum=Sum+num\n",
    "    #Sum += num     # Sum=Sum+num\n",
    "\n",
    "print('The sum of the nums is', Sum)\n",
    "print('The avg. of the nums is', Sum/len(nums))"
   ]
  },
  {
   "cell_type": "markdown",
   "metadata": {},
   "source": [
    "###  <font color=green>In a dict  </font>"
   ]
  },
  {
   "cell_type": "code",
   "execution_count": 18,
   "metadata": {},
   "outputs": [
    {
     "name": "stdout",
     "output_type": "stream",
     "text": [
      "Bob\n",
      "John\n",
      "Fareedah\n"
     ]
    }
   ],
   "source": [
    "# Example 1:key\n",
    "people = {'Bob': 32, 'John': 30, 'Fareedah': 28}\n",
    "\n",
    "for name in people:   # name=key\n",
    "    print(name)"
   ]
  },
  {
   "cell_type": "code",
   "execution_count": 19,
   "metadata": {},
   "outputs": [
    {
     "name": "stdout",
     "output_type": "stream",
     "text": [
      "32\n",
      "30\n",
      "28\n"
     ]
    }
   ],
   "source": [
    "# Example 2:value\n",
    "people = {'Bob': 32, 'John': 30, 'Fareedah': 28}\n",
    "\n",
    "for name in people:\n",
    "    print(people[name])"
   ]
  },
  {
   "cell_type": "code",
   "execution_count": 21,
   "metadata": {},
   "outputs": [
    {
     "name": "stdout",
     "output_type": "stream",
     "text": [
      "the is Bob : 32 years old\n",
      "the is Joh : 30 years old\n",
      "the is Sam : 28 years old\n"
     ]
    }
   ],
   "source": [
    "# Example 3:item\n",
    "people = {'Bob': 32, 'Joh': 30, 'Sam': 28}\n",
    "\n",
    "for name,age in people.items():  # name=key & age=vlaue\n",
    "    print(f\"the is {name} : {age} years old\")"
   ]
  },
  {
   "cell_type": "code",
   "execution_count": 24,
   "metadata": {},
   "outputs": [
    {
     "name": "stdout",
     "output_type": "stream",
     "text": [
      "32\n",
      "30\n",
      "28\n",
      "the age sum is 90\n"
     ]
    }
   ],
   "source": [
    "# Example 4:value\n",
    "people = {'Bob': 32, 'John': 30, 'Fareedah': 28}\n",
    "\n",
    "Age_Sum = 0\n",
    "for age in people.values():\n",
    "    Age_Sum+=age\n",
    "    print(f\"{age}\")\n",
    "\n",
    "print(f\"the age sum is {Age_Sum}\")"
   ]
  },
  {
   "cell_type": "code",
   "execution_count": 25,
   "metadata": {
    "hide_input": false
   },
   "outputs": [],
   "source": [
    "# H.w.1: Age avarage\n",
    "# Given: people = {'Bob': 32, 'John': 30, 'Fareedah': 28}\n",
    "# Requird: Calculate the age avarage of the people in the \"people dictionery\""
   ]
  },
  {
   "cell_type": "code",
   "execution_count": 26,
   "metadata": {
    "hide_input": false
   },
   "outputs": [
    {
     "name": "stdout",
     "output_type": "stream",
     "text": [
      "The avg. of the ages is 30.0\n"
     ]
    }
   ],
   "source": [
    "people = {'Bob': 32, 'John': 30, 'Fareedah': 28}\n",
    "\n",
    "Age_Sum = 0\n",
    "for age in people.values():\n",
    "    Age_Sum += age   # Age_Sum = Age_Sum + age\n",
    "\n",
    "print('The avg. of the ages is', Age_Sum/len(people))"
   ]
  },
  {
   "cell_type": "markdown",
   "metadata": {},
   "source": [
    "###  <font color=green>In a string  </font>"
   ]
  },
  {
   "cell_type": "code",
   "execution_count": 27,
   "metadata": {},
   "outputs": [
    {
     "name": "stdout",
     "output_type": "stream",
     "text": [
      " M\n",
      " U\n",
      " S\n",
      " T\n",
      " A\n",
      " F\n",
      " A\n"
     ]
    }
   ],
   "source": [
    "import time\n",
    "\n",
    "# Example 1\n",
    "name=\"Mustafa\"\n",
    "for letter in name:\n",
    "    print (f\" {letter.upper()}\")\n",
    "    time.sleep(1)  # only for illustration"
   ]
  },
  {
   "cell_type": "markdown",
   "metadata": {},
   "source": [
    "###  <font color=green>Nested loop  </font>"
   ]
  },
  {
   "cell_type": "code",
   "execution_count": 30,
   "metadata": {},
   "outputs": [
    {
     "name": "stdout",
     "output_type": "stream",
     "text": [
      " A:\n",
      " 0\n",
      " 1\n",
      " 2\n",
      " 3\n",
      " 4\n",
      " B:\n",
      " 0\n",
      " 1\n",
      " 2\n",
      " 3\n",
      " 4\n",
      " C:\n",
      " 0\n",
      " 1\n",
      " 2\n",
      " 3\n",
      " 4\n"
     ]
    }
   ],
   "source": [
    "import time\n",
    "\n",
    "# Example 1: list\n",
    "letters = [\"A\", \"B\",\"C\"]\n",
    "\n",
    "for letter in letters:\n",
    "    print (f\" {letter}:\")\n",
    "    time.sleep(1)\n",
    "    \n",
    "    for i in range(5):\n",
    "        print (f\" {i}\")\n",
    "        time.sleep(1)"
   ]
  },
  {
   "cell_type": "code",
   "execution_count": 31,
   "metadata": {},
   "outputs": [
    {
     "name": "stdout",
     "output_type": "stream",
     "text": [
      " Jhon skils are:\n",
      " Python\n",
      " Matlab\n",
      " Archi skils are:\n",
      " Python\n",
      " Matlab\n"
     ]
    }
   ],
   "source": [
    "# Example 2: list\n",
    "people = [\"Jhon\", \"Archi\"]\n",
    "skills=[\"Python\", \"Matlab\"]\n",
    "\n",
    "for name in people:\n",
    "    print (f\" {name} skils are:\")\n",
    "    print (f\" {name} skils are:\")\n",
    "    \n",
    "#     for skill in skills:\n",
    "#         print (f\" {skill}\")"
   ]
  },
  {
   "cell_type": "code",
   "execution_count": 36,
   "metadata": {},
   "outputs": [
    {
     "name": "stdout",
     "output_type": "stream",
     "text": [
      " Jhon:Python\n",
      " Archi:Matlab\n"
     ]
    }
   ],
   "source": [
    "# Example 2: list\n",
    "people = [\"Jhon\", \"Archi\"]\n",
    "skills=[\"Python\", \"Matlab\"]\n",
    "\n",
    "for i in range(2):\n",
    "    name=people[i] \n",
    "    skill=skills[i]\n",
    "    print (f\" {name}:{skill}\")\n",
    "    #print (f\"  \")\n",
    "    \n",
    "#     for skill in skills:\n",
    "#         print (f\" {skill}\")"
   ]
  },
  {
   "cell_type": "code",
   "execution_count": 37,
   "metadata": {},
   "outputs": [
    {
     "name": "stdout",
     "output_type": "stream",
     "text": [
      "Bob skils are:\n",
      "             Python with 85% progress\n",
      "             Matlab with 30% progress\n",
      "Sam skils are:\n",
      "             Java with 25% progress\n",
      "             Matlab with 80% progress\n"
     ]
    }
   ],
   "source": [
    "# Example 3: Dict\n",
    "people = {'Bob': {\"Python\":85, \"Matlab\":30}, \n",
    "          'Sam': {\"Java\":25, \"Matlab\":80}}\n",
    "\n",
    "for name, skill in people.items():  # name=key & age=vlaue\n",
    "    print(f\"{name} skils are:\")\n",
    "    time.sleep(3)\n",
    "    \n",
    "    for skill, progress in skill.items():\n",
    "        print(f\"             {skill} with {progress}% progress\")\n",
    "        time.sleep(1)"
   ]
  },
  {
   "cell_type": "markdown",
   "metadata": {},
   "source": [
    "##  <font color=blue>\"while\" loop  </font>"
   ]
  },
  {
   "cell_type": "markdown",
   "metadata": {},
   "source": [
    " while true: code will run (or output)"
   ]
  },
  {
   "cell_type": "code",
   "execution_count": 44,
   "metadata": {
    "cell_style": "split"
   },
   "outputs": [
    {
     "name": "stdout",
     "output_type": "stream",
     "text": [
      "5\n",
      "6\n"
     ]
    }
   ],
   "source": [
    "# Example 1:\n",
    "a=5\n",
    "\n",
    "while a<=6:    \n",
    "    print (a)\n",
    "    a +=1       # a = a + 1\n",
    "    time.sleep(1)  # only for illustration"
   ]
  },
  {
   "cell_type": "code",
   "execution_count": 41,
   "metadata": {
    "cell_style": "split"
   },
   "outputs": [
    {
     "data": {
      "text/plain": [
       "False"
      ]
     },
     "execution_count": 41,
     "metadata": {},
     "output_type": "execute_result"
    }
   ],
   "source": [
    "a=5\n",
    "a<=4 "
   ]
  },
  {
   "cell_type": "code",
   "execution_count": 45,
   "metadata": {},
   "outputs": [
    {
     "name": "stdout",
     "output_type": "stream",
     "text": [
      "Condition is not valid\n"
     ]
    }
   ],
   "source": [
    "# Example 2:\n",
    "a=100\n",
    "\n",
    "while a<4:     \n",
    "    print (a)\n",
    "    a +=1 \n",
    "else: \n",
    "    print (\"Condition is not valid\")"
   ]
  },
  {
   "cell_type": "code",
   "execution_count": 46,
   "metadata": {},
   "outputs": [
    {
     "name": "stdout",
     "output_type": "stream",
     "text": [
      "Bob\n",
      "John\n",
      "Jamiu\n"
     ]
    }
   ],
   "source": [
    "# Example 3:\n",
    "Name = ['Bob','John','Jamiu']\n",
    "a=0\n",
    "\n",
    "while a<len(Name):\n",
    "    print (Name[a])\n",
    "    a+=1"
   ]
  },
  {
   "cell_type": "code",
   "execution_count": 47,
   "metadata": {},
   "outputs": [
    {
     "name": "stdout",
     "output_type": "stream",
     "text": [
      "#1 Bob\n",
      "#2 John\n",
      "#3 Jamiu\n"
     ]
    }
   ],
   "source": [
    "# Example 4\n",
    "Name = ['Bob','John','Jamiu']\n",
    "a=0\n",
    "\n",
    "while a<len(Name):\n",
    "    print (f\"#{a+1} {Name[a]}\")\n",
    "    a+=1"
   ]
  },
  {
   "cell_type": "code",
   "execution_count": 49,
   "metadata": {},
   "outputs": [],
   "source": [
    "# H.W 1: Simple bookmark manger: \n",
    "# Required: Creat a list of 3 favorite websites (Input only 3 websites).\n",
    "# Hint: use while, input and append.\n",
    "# Hint: during the input show a letter for how many places left to input. "
   ]
  },
  {
   "cell_type": "code",
   "execution_count": 50,
   "metadata": {},
   "outputs": [
    {
     "name": "stdout",
     "output_type": "stream",
     "text": [
      "Input x value: \n",
      "x= \n"
     ]
    }
   ],
   "source": [
    "# Hint:\n",
    "x=input(\"Input x value: \")\n",
    "print(f'x= {x}')"
   ]
  },
  {
   "attachments": {
    "image.png": {
     "image/png": "[encoded data removed]"
    }
   },
   "cell_type": "markdown",
   "metadata": {},
   "source": [
    "Output example:\n",
    "![image.png](attachment:image.png)"
   ]
  }
 ],
 "metadata": {
  "kernelspec": {
   "display_name": "Python 3",
   "language": "python",
   "name": "python3"
  },
  "language_info": {
   "codemirror_mode": {
    "name": "ipython",
    "version": 3
   },
   "file_extension": ".py",
   "mimetype": "text/x-python",
   "name": "python",
   "nbconvert_exporter": "python",
   "pygments_lexer": "ipython3",
   "version": "3.8.5"
  },
  "toc": {
   "base_numbering": 1,
   "nav_menu": {},
   "number_sections": true,
   "sideBar": true,
   "skip_h1_title": false,
   "title_cell": "Table of Contents",
   "title_sidebar": "Contents",
   "toc_cell": false,
   "toc_position": {
    "height": "calc(100% - 180px)",
    "left": "10px",
    "top": "150px",
    "width": "198px"
   },
   "toc_section_display": true,
   "toc_window_display": true
  }
 },
 "nbformat": 4,
 "nbformat_minor": 4
}
